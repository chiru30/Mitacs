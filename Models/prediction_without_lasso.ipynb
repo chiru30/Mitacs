{
 "cells": [
  {
   "cell_type": "code",
   "execution_count": 157,
   "metadata": {},
   "outputs": [],
   "source": [
    "import numpy as np \n",
    "import pandas as pd \n",
    "import os"
   ]
  },
  {
   "cell_type": "code",
   "execution_count": 158,
   "metadata": {},
   "outputs": [],
   "source": [
    "df = pd.read_csv(\"Car_sales.csv\")"
   ]
  },
  {
   "cell_type": "code",
   "execution_count": 159,
   "metadata": {},
   "outputs": [
    {
     "data": {
      "text/html": [
       "<div>\n",
       "<style scoped>\n",
       "    .dataframe tbody tr th:only-of-type {\n",
       "        vertical-align: middle;\n",
       "    }\n",
       "\n",
       "    .dataframe tbody tr th {\n",
       "        vertical-align: top;\n",
       "    }\n",
       "\n",
       "    .dataframe thead th {\n",
       "        text-align: right;\n",
       "    }\n",
       "</style>\n",
       "<table border=\"1\" class=\"dataframe\">\n",
       "  <thead>\n",
       "    <tr style=\"text-align: right;\">\n",
       "      <th></th>\n",
       "      <th>Manufacturer</th>\n",
       "      <th>Model</th>\n",
       "      <th>Sales_in_thousands</th>\n",
       "      <th>__year_resale_value</th>\n",
       "      <th>Vehicle_type</th>\n",
       "      <th>Price_in_thousands</th>\n",
       "      <th>Engine_size</th>\n",
       "      <th>Horsepower</th>\n",
       "      <th>Wheelbase</th>\n",
       "      <th>Width</th>\n",
       "      <th>Length</th>\n",
       "      <th>Curb_weight</th>\n",
       "      <th>Fuel_capacity</th>\n",
       "      <th>Fuel_efficiency</th>\n",
       "      <th>Latest_Launch</th>\n",
       "      <th>Power_perf_factor</th>\n",
       "    </tr>\n",
       "  </thead>\n",
       "  <tbody>\n",
       "    <tr>\n",
       "      <th>0</th>\n",
       "      <td>Acura</td>\n",
       "      <td>Integra</td>\n",
       "      <td>16.919</td>\n",
       "      <td>16.360</td>\n",
       "      <td>Passenger</td>\n",
       "      <td>21.5</td>\n",
       "      <td>1.8</td>\n",
       "      <td>140.0</td>\n",
       "      <td>101.2</td>\n",
       "      <td>67.3</td>\n",
       "      <td>172.4</td>\n",
       "      <td>2.639</td>\n",
       "      <td>13.2</td>\n",
       "      <td>28.0</td>\n",
       "      <td>2/2/2012</td>\n",
       "      <td>58.280150</td>\n",
       "    </tr>\n",
       "    <tr>\n",
       "      <th>1</th>\n",
       "      <td>Acura</td>\n",
       "      <td>TL</td>\n",
       "      <td>39.384</td>\n",
       "      <td>19.875</td>\n",
       "      <td>Passenger</td>\n",
       "      <td>28.4</td>\n",
       "      <td>3.2</td>\n",
       "      <td>225.0</td>\n",
       "      <td>108.1</td>\n",
       "      <td>70.3</td>\n",
       "      <td>192.9</td>\n",
       "      <td>3.517</td>\n",
       "      <td>17.2</td>\n",
       "      <td>25.0</td>\n",
       "      <td>6/3/2011</td>\n",
       "      <td>91.370778</td>\n",
       "    </tr>\n",
       "    <tr>\n",
       "      <th>2</th>\n",
       "      <td>Acura</td>\n",
       "      <td>CL</td>\n",
       "      <td>14.114</td>\n",
       "      <td>18.225</td>\n",
       "      <td>Passenger</td>\n",
       "      <td>NaN</td>\n",
       "      <td>3.2</td>\n",
       "      <td>225.0</td>\n",
       "      <td>106.9</td>\n",
       "      <td>70.6</td>\n",
       "      <td>192.0</td>\n",
       "      <td>3.470</td>\n",
       "      <td>17.2</td>\n",
       "      <td>26.0</td>\n",
       "      <td>1/4/2012</td>\n",
       "      <td>NaN</td>\n",
       "    </tr>\n",
       "  </tbody>\n",
       "</table>\n",
       "</div>"
      ],
      "text/plain": [
       "  Manufacturer    Model  Sales_in_thousands  __year_resale_value Vehicle_type  \\\n",
       "0        Acura  Integra              16.919               16.360    Passenger   \n",
       "1        Acura       TL              39.384               19.875    Passenger   \n",
       "2        Acura       CL              14.114               18.225    Passenger   \n",
       "\n",
       "   Price_in_thousands  Engine_size  Horsepower  Wheelbase  Width  Length  \\\n",
       "0                21.5          1.8       140.0      101.2   67.3   172.4   \n",
       "1                28.4          3.2       225.0      108.1   70.3   192.9   \n",
       "2                 NaN          3.2       225.0      106.9   70.6   192.0   \n",
       "\n",
       "   Curb_weight  Fuel_capacity  Fuel_efficiency Latest_Launch  \\\n",
       "0        2.639           13.2             28.0      2/2/2012   \n",
       "1        3.517           17.2             25.0      6/3/2011   \n",
       "2        3.470           17.2             26.0      1/4/2012   \n",
       "\n",
       "   Power_perf_factor  \n",
       "0          58.280150  \n",
       "1          91.370778  \n",
       "2                NaN  "
      ]
     },
     "execution_count": 159,
     "metadata": {},
     "output_type": "execute_result"
    }
   ],
   "source": [
    "df.head(3)"
   ]
  },
  {
   "cell_type": "code",
   "execution_count": 160,
   "metadata": {},
   "outputs": [
    {
     "data": {
      "text/plain": [
       "(157, 16)"
      ]
     },
     "execution_count": 160,
     "metadata": {},
     "output_type": "execute_result"
    }
   ],
   "source": [
    "df.shape"
   ]
  },
  {
   "cell_type": "code",
   "execution_count": 161,
   "metadata": {},
   "outputs": [
    {
     "data": {
      "text/html": [
       "<div>\n",
       "<style scoped>\n",
       "    .dataframe tbody tr th:only-of-type {\n",
       "        vertical-align: middle;\n",
       "    }\n",
       "\n",
       "    .dataframe tbody tr th {\n",
       "        vertical-align: top;\n",
       "    }\n",
       "\n",
       "    .dataframe thead th {\n",
       "        text-align: right;\n",
       "    }\n",
       "</style>\n",
       "<table border=\"1\" class=\"dataframe\">\n",
       "  <thead>\n",
       "    <tr style=\"text-align: right;\">\n",
       "      <th></th>\n",
       "      <th>Manufacturer</th>\n",
       "      <th>Model</th>\n",
       "      <th>Sales_in_thousands</th>\n",
       "      <th>__year_resale_value</th>\n",
       "      <th>Vehicle_type</th>\n",
       "      <th>Price_in_thousands</th>\n",
       "      <th>Engine_size</th>\n",
       "      <th>Horsepower</th>\n",
       "      <th>Wheelbase</th>\n",
       "      <th>Width</th>\n",
       "      <th>Length</th>\n",
       "      <th>Curb_weight</th>\n",
       "      <th>Fuel_capacity</th>\n",
       "      <th>Fuel_efficiency</th>\n",
       "      <th>Latest_Launch</th>\n",
       "      <th>Power_perf_factor</th>\n",
       "    </tr>\n",
       "  </thead>\n",
       "  <tbody>\n",
       "    <tr>\n",
       "      <th>152</th>\n",
       "      <td>Volvo</td>\n",
       "      <td>V40</td>\n",
       "      <td>3.545</td>\n",
       "      <td>NaN</td>\n",
       "      <td>Passenger</td>\n",
       "      <td>24.4</td>\n",
       "      <td>1.9</td>\n",
       "      <td>160.0</td>\n",
       "      <td>100.5</td>\n",
       "      <td>67.6</td>\n",
       "      <td>176.6</td>\n",
       "      <td>3.042</td>\n",
       "      <td>15.8</td>\n",
       "      <td>25.0</td>\n",
       "      <td>9/21/2011</td>\n",
       "      <td>66.498812</td>\n",
       "    </tr>\n",
       "    <tr>\n",
       "      <th>153</th>\n",
       "      <td>Volvo</td>\n",
       "      <td>S70</td>\n",
       "      <td>15.245</td>\n",
       "      <td>NaN</td>\n",
       "      <td>Passenger</td>\n",
       "      <td>27.5</td>\n",
       "      <td>2.4</td>\n",
       "      <td>168.0</td>\n",
       "      <td>104.9</td>\n",
       "      <td>69.3</td>\n",
       "      <td>185.9</td>\n",
       "      <td>3.208</td>\n",
       "      <td>17.9</td>\n",
       "      <td>25.0</td>\n",
       "      <td>11/24/2012</td>\n",
       "      <td>70.654495</td>\n",
       "    </tr>\n",
       "    <tr>\n",
       "      <th>154</th>\n",
       "      <td>Volvo</td>\n",
       "      <td>V70</td>\n",
       "      <td>17.531</td>\n",
       "      <td>NaN</td>\n",
       "      <td>Passenger</td>\n",
       "      <td>28.8</td>\n",
       "      <td>2.4</td>\n",
       "      <td>168.0</td>\n",
       "      <td>104.9</td>\n",
       "      <td>69.3</td>\n",
       "      <td>186.2</td>\n",
       "      <td>3.259</td>\n",
       "      <td>17.9</td>\n",
       "      <td>25.0</td>\n",
       "      <td>6/25/2011</td>\n",
       "      <td>71.155978</td>\n",
       "    </tr>\n",
       "    <tr>\n",
       "      <th>155</th>\n",
       "      <td>Volvo</td>\n",
       "      <td>C70</td>\n",
       "      <td>3.493</td>\n",
       "      <td>NaN</td>\n",
       "      <td>Passenger</td>\n",
       "      <td>45.5</td>\n",
       "      <td>2.3</td>\n",
       "      <td>236.0</td>\n",
       "      <td>104.9</td>\n",
       "      <td>71.5</td>\n",
       "      <td>185.7</td>\n",
       "      <td>3.601</td>\n",
       "      <td>18.5</td>\n",
       "      <td>23.0</td>\n",
       "      <td>4/26/2011</td>\n",
       "      <td>101.623357</td>\n",
       "    </tr>\n",
       "    <tr>\n",
       "      <th>156</th>\n",
       "      <td>Volvo</td>\n",
       "      <td>S80</td>\n",
       "      <td>18.969</td>\n",
       "      <td>NaN</td>\n",
       "      <td>Passenger</td>\n",
       "      <td>36.0</td>\n",
       "      <td>2.9</td>\n",
       "      <td>201.0</td>\n",
       "      <td>109.9</td>\n",
       "      <td>72.1</td>\n",
       "      <td>189.8</td>\n",
       "      <td>3.600</td>\n",
       "      <td>21.1</td>\n",
       "      <td>24.0</td>\n",
       "      <td>11/14/2011</td>\n",
       "      <td>85.735655</td>\n",
       "    </tr>\n",
       "  </tbody>\n",
       "</table>\n",
       "</div>"
      ],
      "text/plain": [
       "    Manufacturer Model  Sales_in_thousands  __year_resale_value Vehicle_type  \\\n",
       "152        Volvo   V40               3.545                  NaN    Passenger   \n",
       "153        Volvo   S70              15.245                  NaN    Passenger   \n",
       "154        Volvo   V70              17.531                  NaN    Passenger   \n",
       "155        Volvo   C70               3.493                  NaN    Passenger   \n",
       "156        Volvo   S80              18.969                  NaN    Passenger   \n",
       "\n",
       "     Price_in_thousands  Engine_size  Horsepower  Wheelbase  Width  Length  \\\n",
       "152                24.4          1.9       160.0      100.5   67.6   176.6   \n",
       "153                27.5          2.4       168.0      104.9   69.3   185.9   \n",
       "154                28.8          2.4       168.0      104.9   69.3   186.2   \n",
       "155                45.5          2.3       236.0      104.9   71.5   185.7   \n",
       "156                36.0          2.9       201.0      109.9   72.1   189.8   \n",
       "\n",
       "     Curb_weight  Fuel_capacity  Fuel_efficiency Latest_Launch  \\\n",
       "152        3.042           15.8             25.0     9/21/2011   \n",
       "153        3.208           17.9             25.0    11/24/2012   \n",
       "154        3.259           17.9             25.0     6/25/2011   \n",
       "155        3.601           18.5             23.0     4/26/2011   \n",
       "156        3.600           21.1             24.0    11/14/2011   \n",
       "\n",
       "     Power_perf_factor  \n",
       "152          66.498812  \n",
       "153          70.654495  \n",
       "154          71.155978  \n",
       "155         101.623357  \n",
       "156          85.735655  "
      ]
     },
     "execution_count": 161,
     "metadata": {},
     "output_type": "execute_result"
    }
   ],
   "source": [
    "df.tail()"
   ]
  },
  {
   "cell_type": "code",
   "execution_count": 162,
   "metadata": {},
   "outputs": [
    {
     "data": {
      "text/plain": [
       "Index(['Manufacturer', 'Model', 'Sales_in_thousands', '__year_resale_value',\n",
       "       'Vehicle_type', 'Price_in_thousands', 'Engine_size', 'Horsepower',\n",
       "       'Wheelbase', 'Width', 'Length', 'Curb_weight', 'Fuel_capacity',\n",
       "       'Fuel_efficiency', 'Latest_Launch', 'Power_perf_factor'],\n",
       "      dtype='object')"
      ]
     },
     "execution_count": 162,
     "metadata": {},
     "output_type": "execute_result"
    }
   ],
   "source": [
    "df.columns"
   ]
  },
  {
   "cell_type": "code",
   "execution_count": 163,
   "metadata": {},
   "outputs": [
    {
     "data": {
      "text/html": [
       "<div>\n",
       "<style scoped>\n",
       "    .dataframe tbody tr th:only-of-type {\n",
       "        vertical-align: middle;\n",
       "    }\n",
       "\n",
       "    .dataframe tbody tr th {\n",
       "        vertical-align: top;\n",
       "    }\n",
       "\n",
       "    .dataframe thead th {\n",
       "        text-align: right;\n",
       "    }\n",
       "</style>\n",
       "<table border=\"1\" class=\"dataframe\">\n",
       "  <thead>\n",
       "    <tr style=\"text-align: right;\">\n",
       "      <th></th>\n",
       "      <th>Sales_in_thousands</th>\n",
       "      <th>__year_resale_value</th>\n",
       "      <th>Price_in_thousands</th>\n",
       "      <th>Engine_size</th>\n",
       "      <th>Horsepower</th>\n",
       "      <th>Wheelbase</th>\n",
       "      <th>Width</th>\n",
       "      <th>Length</th>\n",
       "      <th>Curb_weight</th>\n",
       "      <th>Fuel_capacity</th>\n",
       "      <th>Fuel_efficiency</th>\n",
       "      <th>Power_perf_factor</th>\n",
       "    </tr>\n",
       "  </thead>\n",
       "  <tbody>\n",
       "    <tr>\n",
       "      <th>count</th>\n",
       "      <td>157.000000</td>\n",
       "      <td>121.000000</td>\n",
       "      <td>155.000000</td>\n",
       "      <td>156.000000</td>\n",
       "      <td>156.000000</td>\n",
       "      <td>156.000000</td>\n",
       "      <td>156.000000</td>\n",
       "      <td>156.000000</td>\n",
       "      <td>155.000000</td>\n",
       "      <td>156.000000</td>\n",
       "      <td>154.000000</td>\n",
       "      <td>155.000000</td>\n",
       "    </tr>\n",
       "    <tr>\n",
       "      <th>mean</th>\n",
       "      <td>52.998076</td>\n",
       "      <td>18.072975</td>\n",
       "      <td>27.390755</td>\n",
       "      <td>3.060897</td>\n",
       "      <td>185.948718</td>\n",
       "      <td>107.487179</td>\n",
       "      <td>71.150000</td>\n",
       "      <td>187.343590</td>\n",
       "      <td>3.378026</td>\n",
       "      <td>17.951923</td>\n",
       "      <td>23.844156</td>\n",
       "      <td>77.043591</td>\n",
       "    </tr>\n",
       "    <tr>\n",
       "      <th>std</th>\n",
       "      <td>68.029422</td>\n",
       "      <td>11.453384</td>\n",
       "      <td>14.351653</td>\n",
       "      <td>1.044653</td>\n",
       "      <td>56.700321</td>\n",
       "      <td>7.641303</td>\n",
       "      <td>3.451872</td>\n",
       "      <td>13.431754</td>\n",
       "      <td>0.630502</td>\n",
       "      <td>3.887921</td>\n",
       "      <td>4.282706</td>\n",
       "      <td>25.142664</td>\n",
       "    </tr>\n",
       "    <tr>\n",
       "      <th>min</th>\n",
       "      <td>0.110000</td>\n",
       "      <td>5.160000</td>\n",
       "      <td>9.235000</td>\n",
       "      <td>1.000000</td>\n",
       "      <td>55.000000</td>\n",
       "      <td>92.600000</td>\n",
       "      <td>62.600000</td>\n",
       "      <td>149.400000</td>\n",
       "      <td>1.895000</td>\n",
       "      <td>10.300000</td>\n",
       "      <td>15.000000</td>\n",
       "      <td>23.276272</td>\n",
       "    </tr>\n",
       "    <tr>\n",
       "      <th>25%</th>\n",
       "      <td>14.114000</td>\n",
       "      <td>11.260000</td>\n",
       "      <td>18.017500</td>\n",
       "      <td>2.300000</td>\n",
       "      <td>149.500000</td>\n",
       "      <td>103.000000</td>\n",
       "      <td>68.400000</td>\n",
       "      <td>177.575000</td>\n",
       "      <td>2.971000</td>\n",
       "      <td>15.800000</td>\n",
       "      <td>21.000000</td>\n",
       "      <td>60.407707</td>\n",
       "    </tr>\n",
       "    <tr>\n",
       "      <th>50%</th>\n",
       "      <td>29.450000</td>\n",
       "      <td>14.180000</td>\n",
       "      <td>22.799000</td>\n",
       "      <td>3.000000</td>\n",
       "      <td>177.500000</td>\n",
       "      <td>107.000000</td>\n",
       "      <td>70.550000</td>\n",
       "      <td>187.900000</td>\n",
       "      <td>3.342000</td>\n",
       "      <td>17.200000</td>\n",
       "      <td>24.000000</td>\n",
       "      <td>72.030917</td>\n",
       "    </tr>\n",
       "    <tr>\n",
       "      <th>75%</th>\n",
       "      <td>67.956000</td>\n",
       "      <td>19.875000</td>\n",
       "      <td>31.947500</td>\n",
       "      <td>3.575000</td>\n",
       "      <td>215.000000</td>\n",
       "      <td>112.200000</td>\n",
       "      <td>73.425000</td>\n",
       "      <td>196.125000</td>\n",
       "      <td>3.799500</td>\n",
       "      <td>19.575000</td>\n",
       "      <td>26.000000</td>\n",
       "      <td>89.414878</td>\n",
       "    </tr>\n",
       "    <tr>\n",
       "      <th>max</th>\n",
       "      <td>540.561000</td>\n",
       "      <td>67.550000</td>\n",
       "      <td>85.500000</td>\n",
       "      <td>8.000000</td>\n",
       "      <td>450.000000</td>\n",
       "      <td>138.700000</td>\n",
       "      <td>79.900000</td>\n",
       "      <td>224.500000</td>\n",
       "      <td>5.572000</td>\n",
       "      <td>32.000000</td>\n",
       "      <td>45.000000</td>\n",
       "      <td>188.144323</td>\n",
       "    </tr>\n",
       "  </tbody>\n",
       "</table>\n",
       "</div>"
      ],
      "text/plain": [
       "       Sales_in_thousands  __year_resale_value  Price_in_thousands  \\\n",
       "count          157.000000           121.000000          155.000000   \n",
       "mean            52.998076            18.072975           27.390755   \n",
       "std             68.029422            11.453384           14.351653   \n",
       "min              0.110000             5.160000            9.235000   \n",
       "25%             14.114000            11.260000           18.017500   \n",
       "50%             29.450000            14.180000           22.799000   \n",
       "75%             67.956000            19.875000           31.947500   \n",
       "max            540.561000            67.550000           85.500000   \n",
       "\n",
       "       Engine_size  Horsepower   Wheelbase       Width      Length  \\\n",
       "count   156.000000  156.000000  156.000000  156.000000  156.000000   \n",
       "mean      3.060897  185.948718  107.487179   71.150000  187.343590   \n",
       "std       1.044653   56.700321    7.641303    3.451872   13.431754   \n",
       "min       1.000000   55.000000   92.600000   62.600000  149.400000   \n",
       "25%       2.300000  149.500000  103.000000   68.400000  177.575000   \n",
       "50%       3.000000  177.500000  107.000000   70.550000  187.900000   \n",
       "75%       3.575000  215.000000  112.200000   73.425000  196.125000   \n",
       "max       8.000000  450.000000  138.700000   79.900000  224.500000   \n",
       "\n",
       "       Curb_weight  Fuel_capacity  Fuel_efficiency  Power_perf_factor  \n",
       "count   155.000000     156.000000       154.000000         155.000000  \n",
       "mean      3.378026      17.951923        23.844156          77.043591  \n",
       "std       0.630502       3.887921         4.282706          25.142664  \n",
       "min       1.895000      10.300000        15.000000          23.276272  \n",
       "25%       2.971000      15.800000        21.000000          60.407707  \n",
       "50%       3.342000      17.200000        24.000000          72.030917  \n",
       "75%       3.799500      19.575000        26.000000          89.414878  \n",
       "max       5.572000      32.000000        45.000000         188.144323  "
      ]
     },
     "execution_count": 163,
     "metadata": {},
     "output_type": "execute_result"
    }
   ],
   "source": [
    "df.describe()"
   ]
  },
  {
   "cell_type": "code",
   "execution_count": 164,
   "metadata": {},
   "outputs": [
    {
     "data": {
      "text/plain": [
       "array(['Acura', 'Audi', 'BMW', 'Buick', 'Cadillac', 'Chevrolet',\n",
       "       'Chrysler', 'Dodge', 'Ford', 'Honda', 'Hyundai', 'Infiniti',\n",
       "       'Jaguar', 'Jeep', 'Lexus', 'Lincoln', 'Mitsubishi', 'Mercury',\n",
       "       'Mercedes-B', 'Nissan', 'Oldsmobile', 'Plymouth', 'Pontiac',\n",
       "       'Porsche', 'Saab', 'Saturn', 'Subaru', 'Toyota', 'Volkswagen',\n",
       "       'Volvo'], dtype=object)"
      ]
     },
     "execution_count": 164,
     "metadata": {},
     "output_type": "execute_result"
    }
   ],
   "source": [
    "df.Manufacturer.unique()"
   ]
  },
  {
   "cell_type": "code",
   "execution_count": 165,
   "metadata": {},
   "outputs": [
    {
     "data": {
      "text/plain": [
       "Manufacturer            0\n",
       "Model                   0\n",
       "Sales_in_thousands      0\n",
       "__year_resale_value    36\n",
       "Vehicle_type            0\n",
       "Price_in_thousands      2\n",
       "Engine_size             1\n",
       "Horsepower              1\n",
       "Wheelbase               1\n",
       "Width                   1\n",
       "Length                  1\n",
       "Curb_weight             2\n",
       "Fuel_capacity           1\n",
       "Fuel_efficiency         3\n",
       "Latest_Launch           0\n",
       "Power_perf_factor       2\n",
       "dtype: int64"
      ]
     },
     "execution_count": 165,
     "metadata": {},
     "output_type": "execute_result"
    }
   ],
   "source": [
    " df.isnull().sum()"
   ]
  },
  {
   "cell_type": "code",
   "execution_count": 166,
   "metadata": {},
   "outputs": [
    {
     "data": {
      "text/plain": [
       "array([16.36 , 19.875, 18.225, 29.725, 22.255, 23.555, 39.   ,    nan,\n",
       "       28.675, 36.125, 12.475, 13.74 , 20.19 , 13.36 , 22.525, 27.1  ,\n",
       "       25.725,  9.25 , 11.225, 10.31 , 11.525, 13.025, 36.225,  9.125,\n",
       "        5.16 , 12.36 , 14.18 , 13.725, 12.64 , 17.325, 19.54 ,  7.75 ,\n",
       "       12.545, 10.185, 12.275, 58.47 , 15.06 , 15.51 , 13.425, 11.26 ,\n",
       "       12.025,  7.425, 12.76 ,  8.835, 10.055, 14.21 , 16.64 , 13.175,\n",
       "       23.575,  7.85 , 15.075,  9.85 , 13.21 , 17.71 , 17.525, 19.49 ,\n",
       "        5.86 ,  7.825,  8.91 , 19.69 , 13.475, 13.775, 18.81 , 26.975,\n",
       "       32.075, 40.375, 20.525, 21.725,  8.325, 10.395, 10.595, 16.575,\n",
       "       20.94 , 19.125, 13.88 ,  8.8  , 13.89 , 11.03 , 14.875, 20.43 ,\n",
       "       14.795, 26.05 , 41.45 , 50.375, 58.6  ,  8.45 , 11.295, 15.125,\n",
       "       15.38 , 17.81 , 11.24 , 19.89 , 19.925, 15.24 ,  9.8  , 13.79 ,\n",
       "       10.29 , 17.805, 14.01 , 13.225, 41.25 , 60.625, 67.55 ,  9.2  ,\n",
       "       10.59 , 10.79 , 10.025, 13.245, 18.14 , 15.445,  9.575, 13.325,\n",
       "       19.425, 34.08 , 11.425, 13.24 , 16.725, 13.76 ])"
      ]
     },
     "execution_count": 166,
     "metadata": {},
     "output_type": "execute_result"
    }
   ],
   "source": [
    "df.__year_resale_value.unique()"
   ]
  },
  {
   "cell_type": "code",
   "execution_count": 167,
   "metadata": {},
   "outputs": [
    {
     "data": {
      "text/plain": [
       "Sales_in_thousands      52.998076\n",
       "__year_resale_value     18.072975\n",
       "Price_in_thousands      27.390755\n",
       "Engine_size              3.060897\n",
       "Horsepower             185.948718\n",
       "Wheelbase              107.487179\n",
       "Width                   71.150000\n",
       "Length                 187.343590\n",
       "Curb_weight              3.378026\n",
       "Fuel_capacity           17.951923\n",
       "Fuel_efficiency         23.844156\n",
       "Power_perf_factor       77.043591\n",
       "dtype: float64"
      ]
     },
     "execution_count": 167,
     "metadata": {},
     "output_type": "execute_result"
    }
   ],
   "source": [
    "df.mean()"
   ]
  },
  {
   "cell_type": "code",
   "execution_count": 168,
   "metadata": {},
   "outputs": [],
   "source": [
    "df.fillna(df.mean(),inplace=True)"
   ]
  },
  {
   "cell_type": "code",
   "execution_count": 169,
   "metadata": {
    "scrolled": true
   },
   "outputs": [
    {
     "data": {
      "text/plain": [
       "Manufacturer           0\n",
       "Model                  0\n",
       "Sales_in_thousands     0\n",
       "__year_resale_value    0\n",
       "Vehicle_type           0\n",
       "Price_in_thousands     0\n",
       "Engine_size            0\n",
       "Horsepower             0\n",
       "Wheelbase              0\n",
       "Width                  0\n",
       "Length                 0\n",
       "Curb_weight            0\n",
       "Fuel_capacity          0\n",
       "Fuel_efficiency        0\n",
       "Latest_Launch          0\n",
       "Power_perf_factor      0\n",
       "dtype: int64"
      ]
     },
     "execution_count": 169,
     "metadata": {},
     "output_type": "execute_result"
    }
   ],
   "source": [
    "df.isnull().sum()"
   ]
  },
  {
   "cell_type": "code",
   "execution_count": 170,
   "metadata": {},
   "outputs": [],
   "source": [
    "df.rename(columns={'__year_resale_value': 'year_resale_value'}, inplace=True)\n"
   ]
  },
  {
   "cell_type": "code",
   "execution_count": 171,
   "metadata": {},
   "outputs": [
    {
     "data": {
      "text/html": [
       "<div>\n",
       "<style scoped>\n",
       "    .dataframe tbody tr th:only-of-type {\n",
       "        vertical-align: middle;\n",
       "    }\n",
       "\n",
       "    .dataframe tbody tr th {\n",
       "        vertical-align: top;\n",
       "    }\n",
       "\n",
       "    .dataframe thead th {\n",
       "        text-align: right;\n",
       "    }\n",
       "</style>\n",
       "<table border=\"1\" class=\"dataframe\">\n",
       "  <thead>\n",
       "    <tr style=\"text-align: right;\">\n",
       "      <th></th>\n",
       "      <th>Manufacturer</th>\n",
       "      <th>Model</th>\n",
       "      <th>Sales_in_thousands</th>\n",
       "      <th>year_resale_value</th>\n",
       "      <th>Vehicle_type</th>\n",
       "      <th>Price_in_thousands</th>\n",
       "      <th>Engine_size</th>\n",
       "      <th>Horsepower</th>\n",
       "      <th>Wheelbase</th>\n",
       "      <th>Width</th>\n",
       "      <th>Length</th>\n",
       "      <th>Curb_weight</th>\n",
       "      <th>Fuel_capacity</th>\n",
       "      <th>Fuel_efficiency</th>\n",
       "      <th>Latest_Launch</th>\n",
       "      <th>Power_perf_factor</th>\n",
       "    </tr>\n",
       "  </thead>\n",
       "  <tbody>\n",
       "    <tr>\n",
       "      <th>154</th>\n",
       "      <td>Volvo</td>\n",
       "      <td>V70</td>\n",
       "      <td>17.531</td>\n",
       "      <td>18.072975</td>\n",
       "      <td>Passenger</td>\n",
       "      <td>28.8</td>\n",
       "      <td>2.4</td>\n",
       "      <td>168.0</td>\n",
       "      <td>104.9</td>\n",
       "      <td>69.3</td>\n",
       "      <td>186.2</td>\n",
       "      <td>3.259</td>\n",
       "      <td>17.9</td>\n",
       "      <td>25.0</td>\n",
       "      <td>6/25/2011</td>\n",
       "      <td>71.155978</td>\n",
       "    </tr>\n",
       "    <tr>\n",
       "      <th>155</th>\n",
       "      <td>Volvo</td>\n",
       "      <td>C70</td>\n",
       "      <td>3.493</td>\n",
       "      <td>18.072975</td>\n",
       "      <td>Passenger</td>\n",
       "      <td>45.5</td>\n",
       "      <td>2.3</td>\n",
       "      <td>236.0</td>\n",
       "      <td>104.9</td>\n",
       "      <td>71.5</td>\n",
       "      <td>185.7</td>\n",
       "      <td>3.601</td>\n",
       "      <td>18.5</td>\n",
       "      <td>23.0</td>\n",
       "      <td>4/26/2011</td>\n",
       "      <td>101.623357</td>\n",
       "    </tr>\n",
       "    <tr>\n",
       "      <th>156</th>\n",
       "      <td>Volvo</td>\n",
       "      <td>S80</td>\n",
       "      <td>18.969</td>\n",
       "      <td>18.072975</td>\n",
       "      <td>Passenger</td>\n",
       "      <td>36.0</td>\n",
       "      <td>2.9</td>\n",
       "      <td>201.0</td>\n",
       "      <td>109.9</td>\n",
       "      <td>72.1</td>\n",
       "      <td>189.8</td>\n",
       "      <td>3.600</td>\n",
       "      <td>21.1</td>\n",
       "      <td>24.0</td>\n",
       "      <td>11/14/2011</td>\n",
       "      <td>85.735655</td>\n",
       "    </tr>\n",
       "  </tbody>\n",
       "</table>\n",
       "</div>"
      ],
      "text/plain": [
       "    Manufacturer Model  Sales_in_thousands  year_resale_value Vehicle_type  \\\n",
       "154        Volvo   V70              17.531          18.072975    Passenger   \n",
       "155        Volvo   C70               3.493          18.072975    Passenger   \n",
       "156        Volvo   S80              18.969          18.072975    Passenger   \n",
       "\n",
       "     Price_in_thousands  Engine_size  Horsepower  Wheelbase  Width  Length  \\\n",
       "154                28.8          2.4       168.0      104.9   69.3   186.2   \n",
       "155                45.5          2.3       236.0      104.9   71.5   185.7   \n",
       "156                36.0          2.9       201.0      109.9   72.1   189.8   \n",
       "\n",
       "     Curb_weight  Fuel_capacity  Fuel_efficiency Latest_Launch  \\\n",
       "154        3.259           17.9             25.0     6/25/2011   \n",
       "155        3.601           18.5             23.0     4/26/2011   \n",
       "156        3.600           21.1             24.0    11/14/2011   \n",
       "\n",
       "     Power_perf_factor  \n",
       "154          71.155978  \n",
       "155         101.623357  \n",
       "156          85.735655  "
      ]
     },
     "execution_count": 171,
     "metadata": {},
     "output_type": "execute_result"
    }
   ],
   "source": [
    "df.tail(3)"
   ]
  },
  {
   "cell_type": "code",
   "execution_count": 172,
   "metadata": {
    "scrolled": false
   },
   "outputs": [
    {
     "name": "stdout",
     "output_type": "stream",
     "text": [
      "<class 'pandas.core.frame.DataFrame'>\n",
      "RangeIndex: 157 entries, 0 to 156\n",
      "Data columns (total 16 columns):\n",
      " #   Column              Non-Null Count  Dtype  \n",
      "---  ------              --------------  -----  \n",
      " 0   Manufacturer        157 non-null    object \n",
      " 1   Model               157 non-null    object \n",
      " 2   Sales_in_thousands  157 non-null    float64\n",
      " 3   year_resale_value   157 non-null    float64\n",
      " 4   Vehicle_type        157 non-null    object \n",
      " 5   Price_in_thousands  157 non-null    float64\n",
      " 6   Engine_size         157 non-null    float64\n",
      " 7   Horsepower          157 non-null    float64\n",
      " 8   Wheelbase           157 non-null    float64\n",
      " 9   Width               157 non-null    float64\n",
      " 10  Length              157 non-null    float64\n",
      " 11  Curb_weight         157 non-null    float64\n",
      " 12  Fuel_capacity       157 non-null    float64\n",
      " 13  Fuel_efficiency     157 non-null    float64\n",
      " 14  Latest_Launch       157 non-null    object \n",
      " 15  Power_perf_factor   157 non-null    float64\n",
      "dtypes: float64(12), object(4)\n",
      "memory usage: 19.8+ KB\n"
     ]
    }
   ],
   "source": [
    "df.info()"
   ]
  },
  {
   "cell_type": "code",
   "execution_count": 173,
   "metadata": {},
   "outputs": [],
   "source": [
    "from sklearn.preprocessing import LabelEncoder, StandardScaler\n",
    "label_encoder = LabelEncoder()\n",
    "\n",
    "df['Manufacturer'] = label_encoder.fit_transform(df['Manufacturer'])\n"
   ]
  },
  {
   "cell_type": "code",
   "execution_count": 174,
   "metadata": {},
   "outputs": [],
   "source": [
    "df['Model'] = label_encoder.fit_transform(df['Model'])"
   ]
  },
  {
   "cell_type": "code",
   "execution_count": 175,
   "metadata": {},
   "outputs": [],
   "source": [
    "df['Vehicle_type'] = label_encoder.fit_transform(df['Vehicle_type'])\n"
   ]
  },
  {
   "cell_type": "code",
   "execution_count": 176,
   "metadata": {},
   "outputs": [],
   "source": [
    "import datetime as dt\n",
    "\n",
    "from datetime import timedelta\n",
    "\n",
    "df['Latest_Launch'] = df['Latest_Launch'].str.replace('/', '')\n",
    "df['Latest_Launch'] = df['Latest_Launch'].str.replace(':', '')\n",
    "df['Latest_Launch'] = df['Latest_Launch'].str.replace(' ', '')\n",
    "df['Latest_Launch'] = df['Latest_Launch'].astype(float)"
   ]
  },
  {
   "cell_type": "code",
   "execution_count": 177,
   "metadata": {},
   "outputs": [
    {
     "name": "stdout",
     "output_type": "stream",
     "text": [
      "<class 'pandas.core.frame.DataFrame'>\n",
      "RangeIndex: 157 entries, 0 to 156\n",
      "Data columns (total 16 columns):\n",
      " #   Column              Non-Null Count  Dtype  \n",
      "---  ------              --------------  -----  \n",
      " 0   Manufacturer        157 non-null    int64  \n",
      " 1   Model               157 non-null    int64  \n",
      " 2   Sales_in_thousands  157 non-null    float64\n",
      " 3   year_resale_value   157 non-null    float64\n",
      " 4   Vehicle_type        157 non-null    int64  \n",
      " 5   Price_in_thousands  157 non-null    float64\n",
      " 6   Engine_size         157 non-null    float64\n",
      " 7   Horsepower          157 non-null    float64\n",
      " 8   Wheelbase           157 non-null    float64\n",
      " 9   Width               157 non-null    float64\n",
      " 10  Length              157 non-null    float64\n",
      " 11  Curb_weight         157 non-null    float64\n",
      " 12  Fuel_capacity       157 non-null    float64\n",
      " 13  Fuel_efficiency     157 non-null    float64\n",
      " 14  Latest_Launch       157 non-null    float64\n",
      " 15  Power_perf_factor   157 non-null    float64\n",
      "dtypes: float64(13), int64(3)\n",
      "memory usage: 19.8 KB\n"
     ]
    }
   ],
   "source": [
    "df.info()"
   ]
  },
  {
   "cell_type": "code",
   "execution_count": 178,
   "metadata": {},
   "outputs": [],
   "source": [
    "from sklearn.model_selection import train_test_split"
   ]
  },
  {
   "cell_type": "code",
   "execution_count": 179,
   "metadata": {},
   "outputs": [],
   "source": [
    "X=df.drop([\"Sales_in_thousands\"], axis=1)\n",
    "\n",
    "y=df[\"Sales_in_thousands\"]"
   ]
  },
  {
   "cell_type": "code",
   "execution_count": 180,
   "metadata": {},
   "outputs": [],
   "source": [
    "from sklearn.tree import DecisionTreeClassifier\n",
    "classifier = DecisionTreeClassifier(random_state=0)\n"
   ]
  },
  {
   "cell_type": "code",
   "execution_count": 181,
   "metadata": {},
   "outputs": [],
   "source": [
    "from sklearn import preprocessing\n",
    "from sklearn import utils\n",
    "\n",
    "lab_enc = preprocessing.LabelEncoder()\n",
    "encoded = lab_enc.fit_transform(y)"
   ]
  },
  {
   "cell_type": "code",
   "execution_count": 182,
   "metadata": {},
   "outputs": [
    {
     "name": "stdout",
     "output_type": "stream",
     "text": [
      "continuous\n"
     ]
    }
   ],
   "source": [
    "print(utils.multiclass.type_of_target(y))"
   ]
  },
  {
   "cell_type": "code",
   "execution_count": 183,
   "metadata": {},
   "outputs": [
    {
     "name": "stdout",
     "output_type": "stream",
     "text": [
      "multiclass\n"
     ]
    }
   ],
   "source": [
    "print(utils.multiclass.type_of_target(y.astype('int')))"
   ]
  },
  {
   "cell_type": "code",
   "execution_count": 184,
   "metadata": {},
   "outputs": [
    {
     "name": "stdout",
     "output_type": "stream",
     "text": [
      "multiclass\n"
     ]
    }
   ],
   "source": [
    "print(utils.multiclass.type_of_target(encoded))"
   ]
  },
  {
   "cell_type": "code",
   "execution_count": 187,
   "metadata": {},
   "outputs": [],
   "source": [
    "X_train, X_test, encoded_train, encoded_test = train_test_split(X, encoded, train_size=0.2)"
   ]
  },
  {
   "cell_type": "code",
   "execution_count": 189,
   "metadata": {},
   "outputs": [
    {
     "name": "stdout",
     "output_type": "stream",
     "text": [
      "-0.03977390376559131\n"
     ]
    }
   ],
   "source": [
    "from sklearn.preprocessing import scale\n",
    "from sklearn.linear_model import LogisticRegression\n",
    "from sklearn.model_selection import train_test_split\n",
    "from sklearn.metrics import r2_score\n",
    "from sklearn import preprocessing\n",
    "\n",
    "LogReg=LogisticRegression(C=2.0)\n",
    "LogReg.fit(X_train, encoded_train)\n",
    "dat1=LogReg.predict(X_test)\n",
    "\n",
    "print(r2_score(encoded_test,dat1))\n"
   ]
  }
 ],
 "metadata": {
  "kernelspec": {
   "display_name": "Python 3",
   "language": "python",
   "name": "python3"
  },
  "language_info": {
   "codemirror_mode": {
    "name": "ipython",
    "version": 3
   },
   "file_extension": ".py",
   "mimetype": "text/x-python",
   "name": "python",
   "nbconvert_exporter": "python",
   "pygments_lexer": "ipython3",
   "version": "3.8.5"
  }
 },
 "nbformat": 4,
 "nbformat_minor": 4
}
